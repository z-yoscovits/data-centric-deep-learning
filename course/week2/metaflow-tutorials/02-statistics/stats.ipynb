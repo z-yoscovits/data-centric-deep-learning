{
 "cells": [
  {
   "cell_type": "markdown",
   "metadata": {},
   "source": [
    "# Episode 02: Is this Data Science?\n",
    "\n",
    "### MovieStatsFlow loads the movie metadata CSV file into a Pandas Dataframe and computes some movie genre specific statistics. You can use this notebook and the Metaflow client to eyeball the results and make some simple plots. "
   ]
  },
  {
   "cell_type": "markdown",
   "metadata": {},
   "source": [
    "## Import the metaflow client"
   ]
  },
  {
   "cell_type": "code",
   "execution_count": 3,
   "metadata": {},
   "outputs": [
    {
     "name": "stdout",
     "output_type": "stream",
     "text": [
      "Current metadata provider: local@/workspace/data-centric-deep-learning/course/week2/metaflow-tutorials\n"
     ]
    }
   ],
   "source": [
    "from metaflow import Flow, get_metadata\n",
    "import matplotlib.pyplot as plt\n",
    "print(\"Current metadata provider: %s\" % get_metadata())"
   ]
  },
  {
   "cell_type": "code",
   "execution_count": 6,
   "metadata": {},
   "outputs": [
    {
     "name": "stdout",
     "output_type": "stream",
     "text": [
      "\u001b[35m\u001b[1mMetaflow 2.6.0\u001b[0m\u001b[35m\u001b[22m executing \u001b[0m\u001b[31m\u001b[1mMovieStatsFlow\u001b[0m\u001b[35m\u001b[22m\u001b[0m\u001b[35m\u001b[22m for \u001b[0m\u001b[31m\u001b[1muser:gitpod\u001b[0m\u001b[35m\u001b[22m\u001b[K\u001b[0m\u001b[35m\u001b[22m\u001b[0m\n",
      "\u001b[35m\u001b[22mValidating your flow...\u001b[K\u001b[0m\u001b[35m\u001b[22m\u001b[0m\n",
      "\u001b[32m\u001b[1m    The graph looks good!\u001b[K\u001b[0m\u001b[32m\u001b[1m\u001b[0m\n",
      "\u001b[35m\u001b[22mRunning pylint...\u001b[K\u001b[0m\u001b[35m\u001b[22m\u001b[0m\n",
      "\u001b[32m\u001b[1m    Pylint is happy!\u001b[K\u001b[0m\u001b[32m\u001b[1m\u001b[0m\n",
      "\u001b[22mIncluding file movies.csv of size 191KB \u001b[K\u001b[0m\u001b[22m\u001b[0m\n",
      "\u001b[22mFile persisted at local:///workspace/data-centric-deep-learning/course/week2/metaflow-tutorials/.metaflow/data/MovieStatsFlow/9e3a38eb45be19331cf19b394d8191f54a06a281\u001b[K\u001b[0m\u001b[22m\u001b[0m\n",
      "\u001b[35m2023-09-29 15:54:13.010 \u001b[0m\u001b[1mWorkflow starting (run-id 1696002852999621):\u001b[0m\n",
      "\u001b[35m2023-09-29 15:54:13.024 \u001b[0m\u001b[32m[1696002852999621/start/1 (pid 3855)] \u001b[0m\u001b[1mTask is starting.\u001b[0m\n",
      "\u001b[35m2023-09-29 15:54:14.027 \u001b[0m\u001b[32m[1696002852999621/start/1 (pid 3855)] \u001b[0m\u001b[1mForeach yields 22 child steps.\u001b[0m\n",
      "\u001b[35m2023-09-29 15:54:14.027 \u001b[0m\u001b[32m[1696002852999621/start/1 (pid 3855)] \u001b[0m\u001b[1mTask finished successfully.\u001b[0m\n",
      "\u001b[35m2023-09-29 15:54:14.040 \u001b[0m\u001b[32m[1696002852999621/compute_statistics/2 (pid 3874)] \u001b[0m\u001b[1mTask is starting.\u001b[0m\n",
      "\u001b[35m2023-09-29 15:54:14.048 \u001b[0m\u001b[32m[1696002852999621/compute_statistics/3 (pid 3875)] \u001b[0m\u001b[1mTask is starting.\u001b[0m\n",
      "\u001b[35m2023-09-29 15:54:14.062 \u001b[0m\u001b[32m[1696002852999621/compute_statistics/4 (pid 3876)] \u001b[0m\u001b[1mTask is starting.\u001b[0m\n",
      "\u001b[35m2023-09-29 15:54:14.075 \u001b[0m\u001b[32m[1696002852999621/compute_statistics/5 (pid 3877)] \u001b[0m\u001b[1mTask is starting.\u001b[0m\n",
      "\u001b[35m2023-09-29 15:54:14.089 \u001b[0m\u001b[32m[1696002852999621/compute_statistics/6 (pid 3878)] \u001b[0m\u001b[1mTask is starting.\u001b[0m\n",
      "\u001b[35m2023-09-29 15:54:14.135 \u001b[0m\u001b[32m[1696002852999621/compute_statistics/7 (pid 3879)] \u001b[0m\u001b[1mTask is starting.\u001b[0m\n",
      "\u001b[35m2023-09-29 15:54:14.149 \u001b[0m\u001b[32m[1696002852999621/compute_statistics/8 (pid 3880)] \u001b[0m\u001b[1mTask is starting.\u001b[0m\n",
      "\u001b[35m2023-09-29 15:54:14.241 \u001b[0m\u001b[32m[1696002852999621/compute_statistics/9 (pid 3881)] \u001b[0m\u001b[1mTask is starting.\u001b[0m\n",
      "\u001b[35m2023-09-29 15:54:14.255 \u001b[0m\u001b[32m[1696002852999621/compute_statistics/10 (pid 3882)] \u001b[0m\u001b[1mTask is starting.\u001b[0m\n",
      "\u001b[35m2023-09-29 15:54:14.348 \u001b[0m\u001b[32m[1696002852999621/compute_statistics/11 (pid 3883)] \u001b[0m\u001b[1mTask is starting.\u001b[0m\n",
      "\u001b[35m2023-09-29 15:54:14.449 \u001b[0m\u001b[32m[1696002852999621/compute_statistics/12 (pid 3884)] \u001b[0m\u001b[1mTask is starting.\u001b[0m\n",
      "\u001b[35m2023-09-29 15:54:14.635 \u001b[0m\u001b[32m[1696002852999621/compute_statistics/13 (pid 3885)] \u001b[0m\u001b[1mTask is starting.\u001b[0m\n",
      "\u001b[35m2023-09-29 15:54:14.655 \u001b[0m\u001b[32m[1696002852999621/compute_statistics/14 (pid 3886)] \u001b[0m\u001b[1mTask is starting.\u001b[0m\n",
      "\u001b[35m2023-09-29 15:54:14.747 \u001b[0m\u001b[32m[1696002852999621/compute_statistics/15 (pid 3887)] \u001b[0m\u001b[1mTask is starting.\u001b[0m\n",
      "\u001b[35m2023-09-29 15:54:14.935 \u001b[0m\u001b[32m[1696002852999621/compute_statistics/16 (pid 3888)] \u001b[0m\u001b[1mTask is starting.\u001b[0m\n",
      "\u001b[35m2023-09-29 15:54:15.243 \u001b[0m\u001b[32m[1696002852999621/compute_statistics/17 (pid 3889)] \u001b[0m\u001b[1mTask is starting.\u001b[0m\n",
      "\u001b[35m2023-09-29 15:54:18.645 \u001b[0m\u001b[32m[1696002852999621/compute_statistics/2 (pid 3874)] \u001b[0m\u001b[22mComputing statistics for Drama\u001b[0m\n",
      "\u001b[35m2023-09-29 15:54:18.940 \u001b[0m\u001b[32m[1696002852999621/compute_statistics/3 (pid 3875)] \u001b[0m\u001b[22mComputing statistics for Animation\u001b[0m\n",
      "\u001b[35m2023-09-29 15:54:19.243 \u001b[0m\u001b[32m[1696002852999621/compute_statistics/5 (pid 3877)] \u001b[0m\u001b[22mComputing statistics for Sport\u001b[0m\n",
      "\u001b[35m2023-09-29 15:54:19.439 \u001b[0m\u001b[32m[1696002852999621/compute_statistics/6 (pid 3878)] \u001b[0m\u001b[22mComputing statistics for Fantasy\u001b[0m\n",
      "\u001b[35m2023-09-29 15:54:19.635 \u001b[0m\u001b[32m[1696002852999621/compute_statistics/7 (pid 3879)] \u001b[0m\u001b[22mComputing statistics for Adventure\u001b[0m\n",
      "\u001b[35m2023-09-29 15:54:19.735 \u001b[0m\u001b[32m[1696002852999621/compute_statistics/8 (pid 3880)] \u001b[0m\u001b[22mComputing statistics for Documentary\u001b[0m\n",
      "\u001b[35m2023-09-29 15:54:20.144 \u001b[0m\u001b[32m[1696002852999621/compute_statistics/11 (pid 3883)] \u001b[0m\u001b[22mComputing statistics for Biography\u001b[0m\n",
      "\u001b[35m2023-09-29 15:54:20.145 \u001b[0m\u001b[32m[1696002852999621/compute_statistics/12 (pid 3884)] \u001b[0m\u001b[22mComputing statistics for Family\u001b[0m\n",
      "\u001b[35m2023-09-29 15:54:20.435 \u001b[0m\u001b[32m[1696002852999621/compute_statistics/10 (pid 3882)] \u001b[0m\u001b[22mComputing statistics for Romance\u001b[0m\n",
      "\u001b[35m2023-09-29 15:54:20.539 \u001b[0m\u001b[32m[1696002852999621/compute_statistics/9 (pid 3881)] \u001b[0m\u001b[22mComputing statistics for Thriller\u001b[0m\n",
      "\u001b[35m2023-09-29 15:54:20.544 \u001b[0m\u001b[32m[1696002852999621/compute_statistics/13 (pid 3885)] \u001b[0m\u001b[22mComputing statistics for War\u001b[0m\n",
      "\u001b[35m2023-09-29 15:54:21.035 \u001b[0m\u001b[32m[1696002852999621/compute_statistics/14 (pid 3886)] \u001b[0m\u001b[22mComputing statistics for History\u001b[0m\n",
      "\u001b[35m2023-09-29 15:54:21.043 \u001b[0m\u001b[32m[1696002852999621/compute_statistics/16 (pid 3888)] \u001b[0m\u001b[22mComputing statistics for Mystery\u001b[0m\n",
      "\u001b[35m2023-09-29 15:54:21.136 \u001b[0m\u001b[32m[1696002852999621/compute_statistics/4 (pid 3876)] \u001b[0m\u001b[22mComputing statistics for Musical\u001b[0m\n",
      "\u001b[35m2023-09-29 15:54:21.540 \u001b[0m\u001b[32m[1696002852999621/compute_statistics/17 (pid 3889)] \u001b[0m\u001b[22mComputing statistics for Western\u001b[0m\n",
      "\u001b[35m2023-09-29 15:54:21.542 \u001b[0m\u001b[32m[1696002852999621/compute_statistics/15 (pid 3887)] \u001b[0m\u001b[22mComputing statistics for Action\u001b[0m\n",
      "\u001b[35m2023-09-29 15:54:23.237 \u001b[0m\u001b[32m[1696002852999621/compute_statistics/3 (pid 3875)] \u001b[0m\u001b[1mTask finished successfully.\u001b[0m\n",
      "\u001b[35m2023-09-29 15:54:23.444 \u001b[0m\u001b[32m[1696002852999621/compute_statistics/18 (pid 4183)] \u001b[0m\u001b[1mTask is starting.\u001b[0m\n",
      "\u001b[35m2023-09-29 15:54:23.446 \u001b[0m\u001b[32m[1696002852999621/compute_statistics/2 (pid 3874)] \u001b[0m\u001b[1mTask finished successfully.\u001b[0m\n",
      "\u001b[35m2023-09-29 15:54:23.744 \u001b[0m\u001b[32m[1696002852999621/compute_statistics/19 (pid 4185)] \u001b[0m\u001b[1mTask is starting.\u001b[0m\n",
      "\u001b[35m2023-09-29 15:54:23.746 \u001b[0m\u001b[32m[1696002852999621/compute_statistics/5 (pid 3877)] \u001b[0m\u001b[1mTask finished successfully.\u001b[0m\n",
      "\u001b[35m2023-09-29 15:54:23.747 \u001b[0m\u001b[32m[1696002852999621/compute_statistics/6 (pid 3878)] \u001b[0m\u001b[1mTask finished successfully.\u001b[0m\n",
      "\u001b[35m2023-09-29 15:54:23.935 \u001b[0m\u001b[32m[1696002852999621/compute_statistics/20 (pid 4186)] \u001b[0m\u001b[1mTask is starting.\u001b[0m\n",
      "\u001b[35m2023-09-29 15:54:24.141 \u001b[0m\u001b[32m[1696002852999621/compute_statistics/21 (pid 4187)] \u001b[0m\u001b[1mTask is starting.\u001b[0m\n",
      "\u001b[35m2023-09-29 15:54:24.337 \u001b[0m\u001b[32m[1696002852999621/compute_statistics/7 (pid 3879)] \u001b[0m\u001b[1mTask finished successfully.\u001b[0m\n",
      "\u001b[35m2023-09-29 15:54:24.535 \u001b[0m\u001b[32m[1696002852999621/compute_statistics/22 (pid 4188)] \u001b[0m\u001b[1mTask is starting.\u001b[0m\n",
      "\u001b[35m2023-09-29 15:54:24.636 \u001b[0m\u001b[32m[1696002852999621/compute_statistics/11 (pid 3883)] \u001b[0m\u001b[1mTask finished successfully.\u001b[0m\n",
      "\u001b[35m2023-09-29 15:54:24.742 \u001b[0m\u001b[32m[1696002852999621/compute_statistics/23 (pid 4189)] \u001b[0m\u001b[1mTask is starting.\u001b[0m\n",
      "\u001b[35m2023-09-29 15:54:24.744 \u001b[0m\u001b[32m[1696002852999621/compute_statistics/8 (pid 3880)] \u001b[0m\u001b[1mTask finished successfully.\u001b[0m\n",
      "\u001b[35m2023-09-29 15:54:24.745 \u001b[0m\u001b[32m[1696002852999621/compute_statistics/13 (pid 3885)] \u001b[0m\u001b[1mTask finished successfully.\u001b[0m\n",
      "\u001b[35m2023-09-29 15:54:24.837 \u001b[0m\u001b[32m[1696002852999621/compute_statistics/9 (pid 3881)] \u001b[0m\u001b[1mTask finished successfully.\u001b[0m\n",
      "\u001b[35m2023-09-29 15:54:24.838 \u001b[0m\u001b[32m[1696002852999621/compute_statistics/10 (pid 3882)] \u001b[0m\u001b[1mTask finished successfully.\u001b[0m\n",
      "\u001b[35m2023-09-29 15:54:24.848 \u001b[0m\u001b[32m[1696002852999621/compute_statistics/12 (pid 3884)] \u001b[0m\u001b[1mTask finished successfully.\u001b[0m\n",
      "\u001b[35m2023-09-29 15:54:25.036 \u001b[0m\u001b[32m[1696002852999621/compute_statistics/14 (pid 3886)] \u001b[0m\u001b[1mTask finished successfully.\u001b[0m\n",
      "\u001b[35m2023-09-29 15:54:25.139 \u001b[0m\u001b[32m[1696002852999621/compute_statistics/16 (pid 3888)] \u001b[0m\u001b[1mTask finished successfully.\u001b[0m\n",
      "\u001b[35m2023-09-29 15:54:25.144 \u001b[0m\u001b[32m[1696002852999621/compute_statistics/15 (pid 3887)] \u001b[0m\u001b[1mTask finished successfully.\u001b[0m\n",
      "\u001b[35m2023-09-29 15:54:25.158 \u001b[0m\u001b[32m[1696002852999621/compute_statistics/17 (pid 3889)] \u001b[0m\u001b[1mTask finished successfully.\u001b[0m\n",
      "\u001b[35m2023-09-29 15:54:25.160 \u001b[0m\u001b[32m[1696002852999621/compute_statistics/4 (pid 3876)] \u001b[0m\u001b[1mTask finished successfully.\u001b[0m\n",
      "\u001b[35m2023-09-29 15:54:25.562 \u001b[0m\u001b[32m[1696002852999621/compute_statistics/18 (pid 4183)] \u001b[0m\u001b[22mComputing statistics for Crime\u001b[0m\n",
      "\u001b[35m2023-09-29 15:54:25.740 \u001b[0m\u001b[32m[1696002852999621/compute_statistics/19 (pid 4185)] \u001b[0m\u001b[22mComputing statistics for Music\u001b[0m\n",
      "\u001b[35m2023-09-29 15:54:25.747 \u001b[0m\u001b[32m[1696002852999621/compute_statistics/21 (pid 4187)] \u001b[0m\u001b[22mComputing statistics for Comedy\u001b[0m\n",
      "\u001b[35m2023-09-29 15:54:25.947 \u001b[0m\u001b[32m[1696002852999621/compute_statistics/20 (pid 4186)] \u001b[0m\u001b[22mComputing statistics for Horror\u001b[0m\n",
      "\u001b[35m2023-09-29 15:54:26.045 \u001b[0m\u001b[32m[1696002852999621/compute_statistics/23 (pid 4189)] \u001b[0m\u001b[22mComputing statistics for Film-Noir\u001b[0m\n",
      "\u001b[35m2023-09-29 15:54:26.058 \u001b[0m\u001b[32m[1696002852999621/compute_statistics/22 (pid 4188)] \u001b[0m\u001b[22mComputing statistics for Sci-Fi\u001b[0m\n",
      "\u001b[35m2023-09-29 15:54:26.579 \u001b[0m\u001b[32m[1696002852999621/compute_statistics/21 (pid 4187)] \u001b[0m\u001b[1mTask finished successfully.\u001b[0m\n",
      "\u001b[35m2023-09-29 15:54:26.580 \u001b[0m\u001b[32m[1696002852999621/compute_statistics/18 (pid 4183)] \u001b[0m\u001b[1mTask finished successfully.\u001b[0m\n",
      "\u001b[35m2023-09-29 15:54:26.657 \u001b[0m\u001b[32m[1696002852999621/compute_statistics/19 (pid 4185)] \u001b[0m\u001b[1mTask finished successfully.\u001b[0m\n",
      "\u001b[35m2023-09-29 15:54:26.676 \u001b[0m\u001b[32m[1696002852999621/compute_statistics/20 (pid 4186)] \u001b[0m\u001b[1mTask finished successfully.\u001b[0m\n",
      "\u001b[35m2023-09-29 15:54:26.739 \u001b[0m\u001b[32m[1696002852999621/compute_statistics/22 (pid 4188)] \u001b[0m\u001b[1mTask finished successfully.\u001b[0m\n",
      "\u001b[35m2023-09-29 15:54:26.751 \u001b[0m\u001b[32m[1696002852999621/compute_statistics/23 (pid 4189)] \u001b[0m\u001b[1mTask finished successfully.\u001b[0m\n",
      "\u001b[35m2023-09-29 15:54:26.760 \u001b[0m\u001b[32m[1696002852999621/join/24 (pid 4298)] \u001b[0m\u001b[1mTask is starting.\u001b[0m\n",
      "\u001b[35m2023-09-29 15:54:27.622 \u001b[0m\u001b[32m[1696002852999621/join/24 (pid 4298)] \u001b[0m\u001b[1mTask finished successfully.\u001b[0m\n",
      "\u001b[35m2023-09-29 15:54:27.632 \u001b[0m\u001b[32m[1696002852999621/end/25 (pid 4317)] \u001b[0m\u001b[1mTask is starting.\u001b[0m\n",
      "\u001b[35m2023-09-29 15:54:28.082 \u001b[0m\u001b[32m[1696002852999621/end/25 (pid 4317)] \u001b[0m\u001b[1mTask finished successfully.\u001b[0m\n",
      "\u001b[35m2023-09-29 15:54:28.083 \u001b[0m\u001b[1mDone!\u001b[0m\n"
     ]
    }
   ],
   "source": [
    "!python stats.py run"
   ]
  },
  {
   "cell_type": "markdown",
   "metadata": {},
   "source": [
    "## Get the movie statistics from the latest run of MovieStatsFlow"
   ]
  },
  {
   "cell_type": "code",
   "execution_count": 7,
   "metadata": {},
   "outputs": [
    {
     "name": "stdout",
     "output_type": "stream",
     "text": [
      "Using run: Run('MovieStatsFlow/1696002852999621')\n"
     ]
    }
   ],
   "source": [
    "run = Flow('MovieStatsFlow').latest_successful_run\n",
    "print(\"Using run: %s\" % str(run))\n",
    "\n",
    "genre_stats = run.data.genre_stats"
   ]
  },
  {
   "cell_type": "markdown",
   "metadata": {},
   "source": [
    "## Create a bar plot of the median gross box office for the top-5 grossing genres"
   ]
  },
  {
   "cell_type": "code",
   "execution_count": 8,
   "metadata": {},
   "outputs": [
    {
     "data": {
      "image/png": "[encoded data removed]",
      "text/plain": [
       "<Figure size 640x480 with 1 Axes>"
      ]
     },
     "metadata": {},
     "output_type": "display_data"
    }
   ],
   "source": [
    "# Get median for each genre\n",
    "data = [(genre, data['quartiles'][1]) \\\n",
    "        for genre, data \\\n",
    "        in genre_stats.items()]\n",
    "\n",
    "# Sort and unpack into a list of labels, and medians\n",
    "genre, median = zip(*[(genre, median)\\\n",
    "                      for genre, median\\\n",
    "                      in sorted(data, key=lambda pair: pair[1])])\n",
    "\n",
    "# Create the bar plot\n",
    "plt.bar(genre[-5:], median[-5:], align='center', alpha=0.5)\n",
    "plt.ylabel(\"Gross Box office (US Dollars)\")\n",
    "plt.show()"
   ]
  }
 ],
 "metadata": {
  "kernelspec": {
   "display_name": "Python 3",
   "language": "python",
   "name": "python3"
  },
  "language_info": {
   "codemirror_mode": {
    "name": "ipython",
    "version": 3
   },
   "file_extension": ".py",
   "mimetype": "text/x-python",
   "name": "python",
   "nbconvert_exporter": "python",
   "pygments_lexer": "ipython3",
   "version": "3.8.13"
  }
 },
 "nbformat": 4,
 "nbformat_minor": 2
}
